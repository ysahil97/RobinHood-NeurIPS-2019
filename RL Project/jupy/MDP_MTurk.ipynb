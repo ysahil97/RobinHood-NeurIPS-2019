{
 "cells": [
  {
   "cell_type": "code",
   "execution_count": 70,
   "metadata": {},
   "outputs": [],
   "source": [
    "import numpy as np\n",
    "import pandas as pd\n",
    "from statistics import mean, variance\n",
    "from tqdm import tqdm"
   ]
  },
  {
   "cell_type": "code",
   "execution_count": 71,
   "metadata": {},
   "outputs": [
    {
     "data": {
      "text/plain": [
       "array([1., 1., 1., 1.])"
      ]
     },
     "execution_count": 71,
     "metadata": {},
     "output_type": "execute_result"
    }
   ],
   "source": [
    "np.ones(4)"
   ]
  },
  {
   "cell_type": "code",
   "execution_count": 72,
   "metadata": {},
   "outputs": [
    {
     "data": {
      "text/html": [
       "<div>\n",
       "<style scoped>\n",
       "    .dataframe tbody tr th:only-of-type {\n",
       "        vertical-align: middle;\n",
       "    }\n",
       "\n",
       "    .dataframe tbody tr th {\n",
       "        vertical-align: top;\n",
       "    }\n",
       "\n",
       "    .dataframe thead th {\n",
       "        text-align: right;\n",
       "    }\n",
       "</style>\n",
       "<table border=\"1\" class=\"dataframe\">\n",
       "  <thead>\n",
       "    <tr style=\"text-align: right;\">\n",
       "      <th></th>\n",
       "      <th>gender</th>\n",
       "      <th>tutorial</th>\n",
       "      <th>quizScore</th>\n",
       "    </tr>\n",
       "  </thead>\n",
       "  <tbody>\n",
       "    <tr>\n",
       "      <th>0</th>\n",
       "      <td>0</td>\n",
       "      <td>1</td>\n",
       "      <td>0</td>\n",
       "    </tr>\n",
       "    <tr>\n",
       "      <th>1</th>\n",
       "      <td>1</td>\n",
       "      <td>1</td>\n",
       "      <td>10</td>\n",
       "    </tr>\n",
       "    <tr>\n",
       "      <th>2</th>\n",
       "      <td>1</td>\n",
       "      <td>1</td>\n",
       "      <td>0</td>\n",
       "    </tr>\n",
       "    <tr>\n",
       "      <th>3</th>\n",
       "      <td>0</td>\n",
       "      <td>1</td>\n",
       "      <td>0</td>\n",
       "    </tr>\n",
       "    <tr>\n",
       "      <th>4</th>\n",
       "      <td>0</td>\n",
       "      <td>1</td>\n",
       "      <td>10</td>\n",
       "    </tr>\n",
       "    <tr>\n",
       "      <th>...</th>\n",
       "      <td>...</td>\n",
       "      <td>...</td>\n",
       "      <td>...</td>\n",
       "    </tr>\n",
       "    <tr>\n",
       "      <th>1791</th>\n",
       "      <td>1</td>\n",
       "      <td>3</td>\n",
       "      <td>2</td>\n",
       "    </tr>\n",
       "    <tr>\n",
       "      <th>1792</th>\n",
       "      <td>0</td>\n",
       "      <td>3</td>\n",
       "      <td>7</td>\n",
       "    </tr>\n",
       "    <tr>\n",
       "      <th>1793</th>\n",
       "      <td>1</td>\n",
       "      <td>3</td>\n",
       "      <td>2</td>\n",
       "    </tr>\n",
       "    <tr>\n",
       "      <th>1794</th>\n",
       "      <td>0</td>\n",
       "      <td>3</td>\n",
       "      <td>4</td>\n",
       "    </tr>\n",
       "    <tr>\n",
       "      <th>1795</th>\n",
       "      <td>0</td>\n",
       "      <td>3</td>\n",
       "      <td>0</td>\n",
       "    </tr>\n",
       "  </tbody>\n",
       "</table>\n",
       "<p>1796 rows × 3 columns</p>\n",
       "</div>"
      ],
      "text/plain": [
       "      gender  tutorial  quizScore\n",
       "0          0         1          0\n",
       "1          1         1         10\n",
       "2          1         1          0\n",
       "3          0         1          0\n",
       "4          0         1         10\n",
       "...      ...       ...        ...\n",
       "1791       1         3          2\n",
       "1792       0         3          7\n",
       "1793       1         3          2\n",
       "1794       0         3          4\n",
       "1795       0         3          0\n",
       "\n",
       "[1796 rows x 3 columns]"
      ]
     },
     "execution_count": 72,
     "metadata": {},
     "output_type": "execute_result"
    }
   ],
   "source": [
    "dataframe_data_old = pd.read_csv('../../Python/datasets/mturk/mturk_old.csv')\n",
    "dataframe_data = pd.read_csv('../../Python/datasets/mturk/mturk.csv')\n",
    "dataframe_data_old"
   ]
  },
  {
   "cell_type": "code",
   "execution_count": 73,
   "metadata": {},
   "outputs": [
    {
     "data": {
      "text/html": [
       "<div>\n",
       "<style scoped>\n",
       "    .dataframe tbody tr th:only-of-type {\n",
       "        vertical-align: middle;\n",
       "    }\n",
       "\n",
       "    .dataframe tbody tr th {\n",
       "        vertical-align: top;\n",
       "    }\n",
       "\n",
       "    .dataframe thead th {\n",
       "        text-align: right;\n",
       "    }\n",
       "</style>\n",
       "<table border=\"1\" class=\"dataframe\">\n",
       "  <thead>\n",
       "    <tr style=\"text-align: right;\">\n",
       "      <th></th>\n",
       "      <th>gender</th>\n",
       "      <th>tutorial</th>\n",
       "      <th>quizScore</th>\n",
       "    </tr>\n",
       "  </thead>\n",
       "  <tbody>\n",
       "    <tr>\n",
       "      <th>0</th>\n",
       "      <td>0</td>\n",
       "      <td>1</td>\n",
       "      <td>0</td>\n",
       "    </tr>\n",
       "    <tr>\n",
       "      <th>1</th>\n",
       "      <td>1</td>\n",
       "      <td>1</td>\n",
       "      <td>10</td>\n",
       "    </tr>\n",
       "    <tr>\n",
       "      <th>2</th>\n",
       "      <td>1</td>\n",
       "      <td>1</td>\n",
       "      <td>0</td>\n",
       "    </tr>\n",
       "    <tr>\n",
       "      <th>3</th>\n",
       "      <td>0</td>\n",
       "      <td>1</td>\n",
       "      <td>0</td>\n",
       "    </tr>\n",
       "    <tr>\n",
       "      <th>4</th>\n",
       "      <td>0</td>\n",
       "      <td>1</td>\n",
       "      <td>10</td>\n",
       "    </tr>\n",
       "    <tr>\n",
       "      <th>...</th>\n",
       "      <td>...</td>\n",
       "      <td>...</td>\n",
       "      <td>...</td>\n",
       "    </tr>\n",
       "    <tr>\n",
       "      <th>2591</th>\n",
       "      <td>1</td>\n",
       "      <td>3</td>\n",
       "      <td>1</td>\n",
       "    </tr>\n",
       "    <tr>\n",
       "      <th>2592</th>\n",
       "      <td>1</td>\n",
       "      <td>3</td>\n",
       "      <td>1</td>\n",
       "    </tr>\n",
       "    <tr>\n",
       "      <th>2593</th>\n",
       "      <td>1</td>\n",
       "      <td>3</td>\n",
       "      <td>0</td>\n",
       "    </tr>\n",
       "    <tr>\n",
       "      <th>2594</th>\n",
       "      <td>0</td>\n",
       "      <td>3</td>\n",
       "      <td>0</td>\n",
       "    </tr>\n",
       "    <tr>\n",
       "      <th>2595</th>\n",
       "      <td>0</td>\n",
       "      <td>3</td>\n",
       "      <td>1</td>\n",
       "    </tr>\n",
       "  </tbody>\n",
       "</table>\n",
       "<p>2596 rows × 3 columns</p>\n",
       "</div>"
      ],
      "text/plain": [
       "      gender  tutorial  quizScore\n",
       "0          0         1          0\n",
       "1          1         1         10\n",
       "2          1         1          0\n",
       "3          0         1          0\n",
       "4          0         1         10\n",
       "...      ...       ...        ...\n",
       "2591       1         3          1\n",
       "2592       1         3          1\n",
       "2593       1         3          0\n",
       "2594       0         3          0\n",
       "2595       0         3          1\n",
       "\n",
       "[2596 rows x 3 columns]"
      ]
     },
     "execution_count": 73,
     "metadata": {},
     "output_type": "execute_result"
    }
   ],
   "source": [
    "dataframe_data"
   ]
  },
  {
   "cell_type": "code",
   "execution_count": 74,
   "metadata": {},
   "outputs": [
    {
     "data": {
      "text/plain": [
       "1    999\n",
       "3    998\n",
       "2    599\n",
       "Name: tutorial, dtype: int64"
      ]
     },
     "execution_count": 74,
     "metadata": {},
     "output_type": "execute_result"
    }
   ],
   "source": [
    "dataframe_data[\"tutorial\"].value_counts()"
   ]
  },
  {
   "cell_type": "markdown",
   "metadata": {},
   "source": [
    "### Exploratory Data Analysis"
   ]
  },
  {
   "cell_type": "code",
   "execution_count": 75,
   "metadata": {},
   "outputs": [
    {
     "data": {
      "text/plain": [
       " 1    1403\n",
       " 0    1178\n",
       "-9      15\n",
       "Name: gender, dtype: int64"
      ]
     },
     "execution_count": 75,
     "metadata": {},
     "output_type": "execute_result"
    }
   ],
   "source": [
    "dataframe_data[\"gender\"].value_counts()"
   ]
  },
  {
   "cell_type": "code",
   "execution_count": 76,
   "metadata": {},
   "outputs": [
    {
     "data": {
      "text/html": [
       "<div>\n",
       "<style scoped>\n",
       "    .dataframe tbody tr th:only-of-type {\n",
       "        vertical-align: middle;\n",
       "    }\n",
       "\n",
       "    .dataframe tbody tr th {\n",
       "        vertical-align: top;\n",
       "    }\n",
       "\n",
       "    .dataframe thead th {\n",
       "        text-align: right;\n",
       "    }\n",
       "</style>\n",
       "<table border=\"1\" class=\"dataframe\">\n",
       "  <thead>\n",
       "    <tr style=\"text-align: right;\">\n",
       "      <th></th>\n",
       "      <th>gender</th>\n",
       "      <th>tutorial</th>\n",
       "      <th>quizScore</th>\n",
       "    </tr>\n",
       "  </thead>\n",
       "  <tbody>\n",
       "    <tr>\n",
       "      <th>0</th>\n",
       "      <td>0</td>\n",
       "      <td>1</td>\n",
       "      <td>0</td>\n",
       "    </tr>\n",
       "    <tr>\n",
       "      <th>3</th>\n",
       "      <td>0</td>\n",
       "      <td>1</td>\n",
       "      <td>0</td>\n",
       "    </tr>\n",
       "    <tr>\n",
       "      <th>4</th>\n",
       "      <td>0</td>\n",
       "      <td>1</td>\n",
       "      <td>10</td>\n",
       "    </tr>\n",
       "    <tr>\n",
       "      <th>5</th>\n",
       "      <td>0</td>\n",
       "      <td>1</td>\n",
       "      <td>8</td>\n",
       "    </tr>\n",
       "    <tr>\n",
       "      <th>7</th>\n",
       "      <td>0</td>\n",
       "      <td>1</td>\n",
       "      <td>1</td>\n",
       "    </tr>\n",
       "    <tr>\n",
       "      <th>...</th>\n",
       "      <td>...</td>\n",
       "      <td>...</td>\n",
       "      <td>...</td>\n",
       "    </tr>\n",
       "    <tr>\n",
       "      <th>2587</th>\n",
       "      <td>0</td>\n",
       "      <td>3</td>\n",
       "      <td>10</td>\n",
       "    </tr>\n",
       "    <tr>\n",
       "      <th>2588</th>\n",
       "      <td>0</td>\n",
       "      <td>3</td>\n",
       "      <td>0</td>\n",
       "    </tr>\n",
       "    <tr>\n",
       "      <th>2589</th>\n",
       "      <td>0</td>\n",
       "      <td>3</td>\n",
       "      <td>4</td>\n",
       "    </tr>\n",
       "    <tr>\n",
       "      <th>2594</th>\n",
       "      <td>0</td>\n",
       "      <td>3</td>\n",
       "      <td>0</td>\n",
       "    </tr>\n",
       "    <tr>\n",
       "      <th>2595</th>\n",
       "      <td>0</td>\n",
       "      <td>3</td>\n",
       "      <td>1</td>\n",
       "    </tr>\n",
       "  </tbody>\n",
       "</table>\n",
       "<p>1178 rows × 3 columns</p>\n",
       "</div>"
      ],
      "text/plain": [
       "      gender  tutorial  quizScore\n",
       "0          0         1          0\n",
       "3          0         1          0\n",
       "4          0         1         10\n",
       "5          0         1          8\n",
       "7          0         1          1\n",
       "...      ...       ...        ...\n",
       "2587       0         3         10\n",
       "2588       0         3          0\n",
       "2589       0         3          4\n",
       "2594       0         3          0\n",
       "2595       0         3          1\n",
       "\n",
       "[1178 rows x 3 columns]"
      ]
     },
     "execution_count": 76,
     "metadata": {},
     "output_type": "execute_result"
    }
   ],
   "source": [
    "dataframe_data_male = dataframe_data[dataframe_data.gender == 0]\n",
    "dataframe_data_female = dataframe_data[dataframe_data.gender == 1]\n",
    "dataframe_data_male"
   ]
  },
  {
   "cell_type": "code",
   "execution_count": 77,
   "metadata": {},
   "outputs": [
    {
     "data": {
      "text/html": [
       "<div>\n",
       "<style scoped>\n",
       "    .dataframe tbody tr th:only-of-type {\n",
       "        vertical-align: middle;\n",
       "    }\n",
       "\n",
       "    .dataframe tbody tr th {\n",
       "        vertical-align: top;\n",
       "    }\n",
       "\n",
       "    .dataframe thead th {\n",
       "        text-align: right;\n",
       "    }\n",
       "</style>\n",
       "<table border=\"1\" class=\"dataframe\">\n",
       "  <thead>\n",
       "    <tr style=\"text-align: right;\">\n",
       "      <th></th>\n",
       "      <th>gender</th>\n",
       "      <th>tutorial</th>\n",
       "      <th>quizScore</th>\n",
       "    </tr>\n",
       "  </thead>\n",
       "  <tbody>\n",
       "    <tr>\n",
       "      <th>1</th>\n",
       "      <td>1</td>\n",
       "      <td>1</td>\n",
       "      <td>10</td>\n",
       "    </tr>\n",
       "    <tr>\n",
       "      <th>2</th>\n",
       "      <td>1</td>\n",
       "      <td>1</td>\n",
       "      <td>0</td>\n",
       "    </tr>\n",
       "    <tr>\n",
       "      <th>6</th>\n",
       "      <td>1</td>\n",
       "      <td>1</td>\n",
       "      <td>0</td>\n",
       "    </tr>\n",
       "    <tr>\n",
       "      <th>8</th>\n",
       "      <td>1</td>\n",
       "      <td>1</td>\n",
       "      <td>0</td>\n",
       "    </tr>\n",
       "    <tr>\n",
       "      <th>11</th>\n",
       "      <td>1</td>\n",
       "      <td>1</td>\n",
       "      <td>0</td>\n",
       "    </tr>\n",
       "    <tr>\n",
       "      <th>...</th>\n",
       "      <td>...</td>\n",
       "      <td>...</td>\n",
       "      <td>...</td>\n",
       "    </tr>\n",
       "    <tr>\n",
       "      <th>2586</th>\n",
       "      <td>1</td>\n",
       "      <td>3</td>\n",
       "      <td>0</td>\n",
       "    </tr>\n",
       "    <tr>\n",
       "      <th>2590</th>\n",
       "      <td>1</td>\n",
       "      <td>3</td>\n",
       "      <td>0</td>\n",
       "    </tr>\n",
       "    <tr>\n",
       "      <th>2591</th>\n",
       "      <td>1</td>\n",
       "      <td>3</td>\n",
       "      <td>1</td>\n",
       "    </tr>\n",
       "    <tr>\n",
       "      <th>2592</th>\n",
       "      <td>1</td>\n",
       "      <td>3</td>\n",
       "      <td>1</td>\n",
       "    </tr>\n",
       "    <tr>\n",
       "      <th>2593</th>\n",
       "      <td>1</td>\n",
       "      <td>3</td>\n",
       "      <td>0</td>\n",
       "    </tr>\n",
       "  </tbody>\n",
       "</table>\n",
       "<p>1403 rows × 3 columns</p>\n",
       "</div>"
      ],
      "text/plain": [
       "      gender  tutorial  quizScore\n",
       "1          1         1         10\n",
       "2          1         1          0\n",
       "6          1         1          0\n",
       "8          1         1          0\n",
       "11         1         1          0\n",
       "...      ...       ...        ...\n",
       "2586       1         3          0\n",
       "2590       1         3          0\n",
       "2591       1         3          1\n",
       "2592       1         3          1\n",
       "2593       1         3          0\n",
       "\n",
       "[1403 rows x 3 columns]"
      ]
     },
     "execution_count": 77,
     "metadata": {},
     "output_type": "execute_result"
    }
   ],
   "source": [
    "dataframe_data_female"
   ]
  },
  {
   "cell_type": "code",
   "execution_count": 78,
   "metadata": {},
   "outputs": [
    {
     "data": {
      "text/plain": [
       "3    474\n",
       "1    447\n",
       "2    257\n",
       "Name: tutorial, dtype: int64"
      ]
     },
     "execution_count": 78,
     "metadata": {},
     "output_type": "execute_result"
    }
   ],
   "source": [
    "dataframe_data_male[\"tutorial\"].value_counts()"
   ]
  },
  {
   "cell_type": "code",
   "execution_count": 79,
   "metadata": {},
   "outputs": [
    {
     "data": {
      "text/plain": [
       "1    546\n",
       "3    521\n",
       "2    336\n",
       "Name: tutorial, dtype: int64"
      ]
     },
     "execution_count": 79,
     "metadata": {},
     "output_type": "execute_result"
    }
   ],
   "source": [
    "dataframe_data_female[\"tutorial\"].value_counts()"
   ]
  },
  {
   "cell_type": "markdown",
   "metadata": {},
   "source": [
    "- Here for males, the distribution of tutorials is given as follows\n",
    "    - tutorial three is selected with 474/1178 = 0.4023\n",
    "    - tutorial one is selected with 447/1178 = 0.3795\n",
    "    - tutorial two is selected with 257/1178 = 0.2182\n",
    "    \n",
    "- Here for females, the distribution of tutorials is given as follows\n",
    "    - tutorial three is selected with 521/1403 = 0.3713\n",
    "    - tutorial one is selected with 546/1403 =  0.3892\n",
    "    - tutorial two is selected with 336/1403 =  0.2395\n"
   ]
  },
  {
   "cell_type": "code",
   "execution_count": 80,
   "metadata": {},
   "outputs": [],
   "source": [
    "dataframe_data_male_1 = dataframe_data_male[dataframe_data_male.tutorial == 1]\n",
    "dataframe_data_male_2 = dataframe_data_male[dataframe_data_male.tutorial == 2]\n",
    "dataframe_data_male_3 = dataframe_data_male[dataframe_data_male.tutorial == 3]\n",
    "dataframe_data_female_1 = dataframe_data_female[dataframe_data_female.tutorial == 1]\n",
    "dataframe_data_female_2 = dataframe_data_female[dataframe_data_female.tutorial == 2]\n",
    "dataframe_data_female_3 = dataframe_data_female[dataframe_data_female.tutorial == 3]\n",
    "# dataframe_data_male_1 = dataframe_data[dataframe_data.gender == 0 and dataframe_data.tutorial == 2]\n",
    "# dataframe_data_male_2 = dataframe_data[dataframe_data.gender == 0 and dataframe_data.tutorial == 3]\n",
    "# dataframe_data_female_0 = dataframe_data[dataframe_data.gender == 1 and dataframe_data.tutorial == 1]\n",
    "# dataframe_data_female_1 = dataframe_data[dataframe_data.gender == 1 and dataframe_data.tutorial == 2]\n",
    "# dataframe_data_female_2 = dataframe_data[dataframe_data.gender == 1 and dataframe_data.tutorial == 3]"
   ]
  },
  {
   "cell_type": "code",
   "execution_count": 81,
   "metadata": {},
   "outputs": [
    {
     "data": {
      "text/html": [
       "<div>\n",
       "<style scoped>\n",
       "    .dataframe tbody tr th:only-of-type {\n",
       "        vertical-align: middle;\n",
       "    }\n",
       "\n",
       "    .dataframe tbody tr th {\n",
       "        vertical-align: top;\n",
       "    }\n",
       "\n",
       "    .dataframe thead th {\n",
       "        text-align: right;\n",
       "    }\n",
       "</style>\n",
       "<table border=\"1\" class=\"dataframe\">\n",
       "  <thead>\n",
       "    <tr style=\"text-align: right;\">\n",
       "      <th></th>\n",
       "      <th>gender</th>\n",
       "      <th>tutorial</th>\n",
       "      <th>quizScore</th>\n",
       "    </tr>\n",
       "  </thead>\n",
       "  <tbody>\n",
       "    <tr>\n",
       "      <th>0</th>\n",
       "      <td>0</td>\n",
       "      <td>1</td>\n",
       "      <td>0</td>\n",
       "    </tr>\n",
       "    <tr>\n",
       "      <th>3</th>\n",
       "      <td>0</td>\n",
       "      <td>1</td>\n",
       "      <td>0</td>\n",
       "    </tr>\n",
       "    <tr>\n",
       "      <th>4</th>\n",
       "      <td>0</td>\n",
       "      <td>1</td>\n",
       "      <td>10</td>\n",
       "    </tr>\n",
       "    <tr>\n",
       "      <th>5</th>\n",
       "      <td>0</td>\n",
       "      <td>1</td>\n",
       "      <td>8</td>\n",
       "    </tr>\n",
       "    <tr>\n",
       "      <th>7</th>\n",
       "      <td>0</td>\n",
       "      <td>1</td>\n",
       "      <td>1</td>\n",
       "    </tr>\n",
       "    <tr>\n",
       "      <th>...</th>\n",
       "      <td>...</td>\n",
       "      <td>...</td>\n",
       "      <td>...</td>\n",
       "    </tr>\n",
       "    <tr>\n",
       "      <th>992</th>\n",
       "      <td>0</td>\n",
       "      <td>1</td>\n",
       "      <td>10</td>\n",
       "    </tr>\n",
       "    <tr>\n",
       "      <th>993</th>\n",
       "      <td>0</td>\n",
       "      <td>1</td>\n",
       "      <td>10</td>\n",
       "    </tr>\n",
       "    <tr>\n",
       "      <th>994</th>\n",
       "      <td>0</td>\n",
       "      <td>1</td>\n",
       "      <td>0</td>\n",
       "    </tr>\n",
       "    <tr>\n",
       "      <th>996</th>\n",
       "      <td>0</td>\n",
       "      <td>1</td>\n",
       "      <td>0</td>\n",
       "    </tr>\n",
       "    <tr>\n",
       "      <th>997</th>\n",
       "      <td>0</td>\n",
       "      <td>1</td>\n",
       "      <td>0</td>\n",
       "    </tr>\n",
       "  </tbody>\n",
       "</table>\n",
       "<p>447 rows × 3 columns</p>\n",
       "</div>"
      ],
      "text/plain": [
       "     gender  tutorial  quizScore\n",
       "0         0         1          0\n",
       "3         0         1          0\n",
       "4         0         1         10\n",
       "5         0         1          8\n",
       "7         0         1          1\n",
       "..      ...       ...        ...\n",
       "992       0         1         10\n",
       "993       0         1         10\n",
       "994       0         1          0\n",
       "996       0         1          0\n",
       "997       0         1          0\n",
       "\n",
       "[447 rows x 3 columns]"
      ]
     },
     "execution_count": 81,
     "metadata": {},
     "output_type": "execute_result"
    }
   ],
   "source": [
    "dataframe_data_male_1"
   ]
  },
  {
   "cell_type": "code",
   "execution_count": 82,
   "metadata": {},
   "outputs": [
    {
     "data": {
      "text/plain": [
       "10    137\n",
       "0     122\n",
       "1      86\n",
       "5      24\n",
       "6      22\n",
       "9      17\n",
       "2      16\n",
       "8       8\n",
       "4       7\n",
       "7       4\n",
       "3       4\n",
       "Name: quizScore, dtype: int64"
      ]
     },
     "execution_count": 82,
     "metadata": {},
     "output_type": "execute_result"
    }
   ],
   "source": [
    "dataframe_data_male_1[\"quizScore\"].value_counts()"
   ]
  },
  {
   "cell_type": "code",
   "execution_count": 116,
   "metadata": {},
   "outputs": [
    {
     "data": {
      "text/plain": [
       "<AxesSubplot:>"
      ]
     },
     "execution_count": 116,
     "metadata": {},
     "output_type": "execute_result"
    },
    {
     "data": {
      "image/png": "[encoded data removed]",
      "text/plain": [
       "<Figure size 640x480 with 1 Axes>"
      ]
     },
     "metadata": {},
     "output_type": "display_data"
    }
   ],
   "source": [
    "dataframe_data_male_1[\"quizScore\"].value_counts().sort_index().plot.bar()"
   ]
  },
  {
   "cell_type": "code",
   "execution_count": 83,
   "metadata": {},
   "outputs": [
    {
     "name": "stdout",
     "output_type": "stream",
     "text": [
      "0.28773584905660377 0.2028301886792453 0.03773584905660377 0.05660377358490566 0.05188679245283019 0.04009433962264151 0.3231132075471698\n"
     ]
    }
   ],
   "source": [
    "sum = 137+122+86+24+22+17+16\n",
    "print(122.0/sum,86/sum,16/sum,24/sum,22/sum,17/sum,137.0/sum)"
   ]
  },
  {
   "cell_type": "code",
   "execution_count": 84,
   "metadata": {},
   "outputs": [
    {
     "data": {
      "text/plain": [
       "10    111\n",
       "0      45\n",
       "1      43\n",
       "9      22\n",
       "5      14\n",
       "2       9\n",
       "6       6\n",
       "8       3\n",
       "7       2\n",
       "4       1\n",
       "3       1\n",
       "Name: quizScore, dtype: int64"
      ]
     },
     "execution_count": 84,
     "metadata": {},
     "output_type": "execute_result"
    }
   ],
   "source": [
    "dataframe_data_male_2[\"quizScore\"].value_counts()"
   ]
  },
  {
   "cell_type": "code",
   "execution_count": 117,
   "metadata": {},
   "outputs": [
    {
     "data": {
      "text/plain": [
       "<AxesSubplot:>"
      ]
     },
     "execution_count": 117,
     "metadata": {},
     "output_type": "execute_result"
    },
    {
     "data": {
      "image/png": "[encoded data removed]",
      "text/plain": [
       "<Figure size 640x480 with 1 Axes>"
      ]
     },
     "metadata": {},
     "output_type": "display_data"
    }
   ],
   "source": [
    "dataframe_data_male_2[\"quizScore\"].value_counts().sort_index().plot.bar()"
   ]
  },
  {
   "cell_type": "code",
   "execution_count": 85,
   "metadata": {},
   "outputs": [
    {
     "name": "stdout",
     "output_type": "stream",
     "text": [
      "0.19148936170212766,0.1829787234042553,0.059574468085106386,0.09361702127659574,0.4723404255319149\n"
     ]
    }
   ],
   "source": [
    "sum = 111+45+43+22+14\n",
    "print(str(45/sum)+\",\"+str(43/sum)+\",\"+str(14/sum)+\",\"+str(22/sum)+\",\"+str(111/sum))"
   ]
  },
  {
   "cell_type": "code",
   "execution_count": 86,
   "metadata": {},
   "outputs": [
    {
     "data": {
      "text/plain": [
       "0     167\n",
       "1     138\n",
       "2      64\n",
       "10     51\n",
       "9      16\n",
       "3      10\n",
       "5       7\n",
       "4       7\n",
       "7       5\n",
       "8       5\n",
       "6       4\n",
       "Name: quizScore, dtype: int64"
      ]
     },
     "execution_count": 86,
     "metadata": {},
     "output_type": "execute_result"
    }
   ],
   "source": [
    "dataframe_data_male_3[\"quizScore\"].value_counts()"
   ]
  },
  {
   "cell_type": "code",
   "execution_count": 118,
   "metadata": {},
   "outputs": [
    {
     "data": {
      "text/plain": [
       "<AxesSubplot:>"
      ]
     },
     "execution_count": 118,
     "metadata": {},
     "output_type": "execute_result"
    },
    {
     "data": {
      "image/png": "[encoded data removed]",
      "text/plain": [
       "<Figure size 640x480 with 1 Axes>"
      ]
     },
     "metadata": {},
     "output_type": "display_data"
    }
   ],
   "source": [
    "dataframe_data_male_3[\"quizScore\"].value_counts().sort_index().plot.bar()"
   ]
  },
  {
   "cell_type": "code",
   "execution_count": 87,
   "metadata": {},
   "outputs": [
    {
     "name": "stdout",
     "output_type": "stream",
     "text": [
      "0.3744394618834081,0.3094170403587444,0.14349775784753363,0.02242152466367713,0.03587443946188341,0.11434977578475336\n"
     ]
    }
   ],
   "source": [
    "sum = 167+138+64+51+16+10\n",
    "print(str(167/sum)+\",\"+str(138/sum)+\",\"+str(64/sum)+\",\"+str(10/sum)+\",\"+str(16/sum)+\",\"+str(51/sum))"
   ]
  },
  {
   "cell_type": "code",
   "execution_count": 88,
   "metadata": {},
   "outputs": [
    {
     "data": {
      "text/plain": [
       "0     168\n",
       "10    102\n",
       "1      98\n",
       "6      54\n",
       "5      40\n",
       "2      29\n",
       "9      17\n",
       "3      15\n",
       "4      11\n",
       "7       7\n",
       "8       5\n",
       "Name: quizScore, dtype: int64"
      ]
     },
     "execution_count": 88,
     "metadata": {},
     "output_type": "execute_result"
    }
   ],
   "source": [
    "dataframe_data_female_1[\"quizScore\"].value_counts()"
   ]
  },
  {
   "cell_type": "code",
   "execution_count": 89,
   "metadata": {},
   "outputs": [
    {
     "name": "stdout",
     "output_type": "stream",
     "text": [
      "0.3146067415730337,0.18352059925093633,0.054307116104868915,0.028089887640449437,0.020599250936329586,0.0749063670411985,0.10112359550561797,0.031835205992509365,0.19101123595505617\n"
     ]
    }
   ],
   "source": [
    "sum = 168+102+98+54+40+29+17+15+11\n",
    "print(str(168/sum)+\",\"+str(98/sum)+\",\"+str(29/sum)+\",\"+str(15/sum)+\",\"+str(11/sum)+\",\"+str(40/sum)+\",\"+str(54/sum)+\",\"+str(17/sum)+\",\"+str(102/sum))"
   ]
  },
  {
   "cell_type": "code",
   "execution_count": 119,
   "metadata": {},
   "outputs": [
    {
     "data": {
      "text/plain": [
       "<AxesSubplot:>"
      ]
     },
     "execution_count": 119,
     "metadata": {},
     "output_type": "execute_result"
    },
    {
     "data": {
      "image/png": "[encoded data removed]",
      "text/plain": [
       "<Figure size 640x480 with 1 Axes>"
      ]
     },
     "metadata": {},
     "output_type": "display_data"
    }
   ],
   "source": [
    "dataframe_data_female_1[\"quizScore\"].value_counts().sort_index().plot.bar()"
   ]
  },
  {
   "cell_type": "code",
   "execution_count": 90,
   "metadata": {},
   "outputs": [
    {
     "data": {
      "text/plain": [
       "0     289\n",
       "1      43\n",
       "2       3\n",
       "10      1\n",
       "Name: quizScore, dtype: int64"
      ]
     },
     "execution_count": 90,
     "metadata": {},
     "output_type": "execute_result"
    }
   ],
   "source": [
    "dataframe_data_female_2[\"quizScore\"].value_counts()"
   ]
  },
  {
   "cell_type": "code",
   "execution_count": 120,
   "metadata": {},
   "outputs": [
    {
     "data": {
      "text/plain": [
       "<AxesSubplot:>"
      ]
     },
     "execution_count": 120,
     "metadata": {},
     "output_type": "execute_result"
    },
    {
     "data": {
      "image/png": "[encoded data removed]",
      "text/plain": [
       "<Figure size 640x480 with 1 Axes>"
      ]
     },
     "metadata": {},
     "output_type": "display_data"
    }
   ],
   "source": [
    "dataframe_data_female_2[\"quizScore\"].value_counts().sort_index().plot.bar()"
   ]
  },
  {
   "cell_type": "code",
   "execution_count": 91,
   "metadata": {},
   "outputs": [
    {
     "data": {
      "text/plain": [
       "0     213\n",
       "1     167\n",
       "2      67\n",
       "10     32\n",
       "3      10\n",
       "5       6\n",
       "6       6\n",
       "4       6\n",
       "9       6\n",
       "8       5\n",
       "7       3\n",
       "Name: quizScore, dtype: int64"
      ]
     },
     "execution_count": 91,
     "metadata": {},
     "output_type": "execute_result"
    }
   ],
   "source": [
    "dataframe_data_female_3[\"quizScore\"].value_counts()"
   ]
  },
  {
   "cell_type": "code",
   "execution_count": 121,
   "metadata": {},
   "outputs": [
    {
     "data": {
      "text/plain": [
       "<AxesSubplot:>"
      ]
     },
     "execution_count": 121,
     "metadata": {},
     "output_type": "execute_result"
    },
    {
     "data": {
      "image/png": "[encoded data removed]",
      "text/plain": [
       "<Figure size 640x480 with 1 Axes>"
      ]
     },
     "metadata": {},
     "output_type": "display_data"
    }
   ],
   "source": [
    "dataframe_data_female_3[\"quizScore\"].value_counts().sort_index().plot.bar()"
   ]
  },
  {
   "cell_type": "code",
   "execution_count": 92,
   "metadata": {},
   "outputs": [
    {
     "name": "stdout",
     "output_type": "stream",
     "text": [
      "0.43558282208588955,0.34151329243353784,0.13701431492842536,0.02044989775051125,0.065439672801636\n"
     ]
    }
   ],
   "source": [
    "sum = 213+167+67+32+10\n",
    "print(str(213/sum)+\",\"+str(167/sum)+\",\"+str(67/sum)+\",\"+str(10/sum)+\",\"+str(32/sum))"
   ]
  },
  {
   "cell_type": "code",
   "execution_count": 93,
   "metadata": {},
   "outputs": [],
   "source": [
    "def argmax(lst):\n",
    "  return lst.index(max(lst))"
   ]
  },
  {
   "cell_type": "code",
   "execution_count": 94,
   "metadata": {},
   "outputs": [],
   "source": [
    "rews = [[[0.2729,0.1924,0.0358,0.0089,0.0157,0.0537,0.0492,0.0089,0.0179,0.0381,0.3065],\n",
    "         [0.1751,0.1673,0.0350,0.0039,0.0039,0.0545,0.0233,0.0078,0.0117,0.0856,0.4319],\n",
    "         [0.3523,0.2911,0.1350,0.0211,0.0148,0.0148,0.0084,0.0105,0.0105,0.0339,0.1076]],\n",
    "        [[0.3077,0.1795,0.0531,0.0274,0.0201,0.0733,0.0989,0.0128,0.0092,0.0311,0.1869],\n",
    "         [0.8601,0.1280,0.0089,0.0030],\n",
    "         [0.4088,0.3205,0.1286,0.0191,0.0115,0.0115,0.0115,0.0058,0.0096,0.0116,0.0615]]]\n",
    "rew_list = [[[0,1,2,3,4,5,6,7,8,9,10],[0,1,2,3,4,5,6,7,8,9,10],[0,1,2,3,4,5,6,7,8,9,10]],[[0,1,2,3,4,5,6,7,8,9,10],[0.0,1.0,2.0,10.0],[0,1,2,3,4,5,6,7,8,9,10]]]\n",
    "def rew(state,act):\n",
    "    return np.random.choice(rew_list[state][act],1,p=rews[state][act])[0]"
   ]
  },
  {
   "cell_type": "code",
   "execution_count": 95,
   "metadata": {},
   "outputs": [
    {
     "name": "stdout",
     "output_type": "stream",
     "text": [
      "<class 'list'>\n",
      "1.0\n"
     ]
    }
   ],
   "source": [
    "x = [0.4088,0.3205,0.1286,0.0191,0.0115,0.0115,0.0115,0.0058,0.0096,0.0116,0.0615]\n",
    "print(type(x))\n",
    "s = 0\n",
    "for i in x:\n",
    "    s += i\n",
    "print(s)"
   ]
  },
  {
   "cell_type": "code",
   "execution_count": 97,
   "metadata": {},
   "outputs": [
    {
     "name": "stdout",
     "output_type": "stream",
     "text": [
      "[0.0, 1.0, 2.0, 10.0] [0.8601, 0.128, 0.0089, 0.003] 0.1757161757161757\n"
     ]
    },
    {
     "data": {
      "text/plain": [
       "4.056016056016056"
      ]
     },
     "execution_count": 97,
     "metadata": {},
     "output_type": "execute_result"
    }
   ],
   "source": [
    "# np.random.choice([0,1,2,10],11,[0.8601,0.1280,0.0089,0.0030])/\n",
    "# rew(1,2)\n",
    "# print(np.random.choice(rew_list[1][1],11111111,rews[1][1]))\n",
    "print(rew_list[1][1],rews[1][1],mean(np.random.choice(rew_list[1][1],111111,p=rews[1][1])))\n",
    "mean(np.random.choice(rew_list[1][1],111111,p=[0.25,0.25,0.15,0.35]))"
   ]
  },
  {
   "cell_type": "code",
   "execution_count": 98,
   "metadata": {},
   "outputs": [
    {
     "data": {
      "text/plain": [
       "4.636363636363637"
      ]
     },
     "execution_count": 98,
     "metadata": {},
     "output_type": "execute_result"
    }
   ],
   "source": [
    "mean([ 6,  2,  3,  6,  6, 10,  4,  2,  2,  6,  4])"
   ]
  },
  {
   "cell_type": "markdown",
   "metadata": {},
   "source": [
    "### Using random selection of actions"
   ]
  },
  {
   "cell_type": "code",
   "execution_count": 99,
   "metadata": {},
   "outputs": [],
   "source": [
    "genders = [0,1]\n",
    "\n",
    "tutorials = [0,1,2]\n",
    "\n",
    "\n",
    "\n",
    "def monte_carlo_exploring_starts(mc_iters):\n",
    "    rtns = [[[],[],[]],[[],[],[]]]\n",
    "    policy = [[0,0,0],[0,0,0]]\n",
    "    qs = [[0,0,0],[0,0,0]]\n",
    "    \n",
    "    for i in tqdm(range(mc_iters)):\n",
    "        init_state = np.random.choice(len(genders),1)[0]\n",
    "        init_act = np.random.choice(len(tutorials),1)[0]\n",
    "        \n",
    "        # print(init_state,init_act)\n",
    "        rtns[init_state][init_act].append(rew(init_state,init_act)*1.0)\n",
    "        # print(init_state,init_act,rew(init_state,init_act))\n",
    "        qs[init_state][init_act] = mean(rtns[init_state][init_act])\n",
    "        for s in genders:\n",
    "            for j in range(len(policy[s])):\n",
    "#                 if j != argmax(qs[init_state]):\n",
    "                policy[s][j] = 0\n",
    "            policy[s][argmax(qs[s])] = 1\n",
    "            \n",
    "    \n",
    "    print(policy)\n",
    "    print(qs)\n",
    "#     print(rtns)"
   ]
  },
  {
   "cell_type": "markdown",
   "metadata": {},
   "source": [
    "#### Experiment Trials"
   ]
  },
  {
   "cell_type": "code",
   "execution_count": 100,
   "metadata": {},
   "outputs": [
    {
     "name": "stderr",
     "output_type": "stream",
     "text": [
      "100%|██████████| 100000/100000 [06:57<00:00, 239.28it/s]"
     ]
    },
    {
     "name": "stdout",
     "output_type": "stream",
     "text": [
      "[[0, 1, 0], [1, 0, 0]]\n",
      "[[4.4824780232834405, 5.924794785127958, 2.3490222276205515], [3.7232681848066465, 0.17966388586627977, 1.6637005398350833]]\n"
     ]
    },
    {
     "name": "stderr",
     "output_type": "stream",
     "text": [
      "\n"
     ]
    }
   ],
   "source": [
    "monte_carlo_exploring_starts(100000)"
   ]
  },
  {
   "cell_type": "code",
   "execution_count": 101,
   "metadata": {},
   "outputs": [
    {
     "name": "stderr",
     "output_type": "stream",
     "text": [
      "100%|██████████| 100000/100000 [06:54<00:00, 241.38it/s]"
     ]
    },
    {
     "name": "stdout",
     "output_type": "stream",
     "text": [
      "[[0, 1, 0], [1, 0, 0]]\n",
      "[[4.4969204090175205, 5.901648219441771, 2.3410646157572823], [3.697423748889547, 0.17691755414622473, 1.6503234387280092]]\n"
     ]
    },
    {
     "name": "stderr",
     "output_type": "stream",
     "text": [
      "\n"
     ]
    }
   ],
   "source": [
    "monte_carlo_exploring_starts(100000)"
   ]
  },
  {
   "cell_type": "code",
   "execution_count": 102,
   "metadata": {},
   "outputs": [
    {
     "name": "stderr",
     "output_type": "stream",
     "text": [
      "100%|██████████| 100000/100000 [06:54<00:00, 241.27it/s]"
     ]
    },
    {
     "name": "stdout",
     "output_type": "stream",
     "text": [
      "[[0, 1, 0], [1, 0, 0]]\n",
      "[[4.531107374489551, 5.896949071586364, 2.3722768692293768], [3.7139418737589507, 0.1765656807567956, 1.6199796492488179]]\n"
     ]
    },
    {
     "name": "stderr",
     "output_type": "stream",
     "text": [
      "\n"
     ]
    }
   ],
   "source": [
    "monte_carlo_exploring_starts(100000)"
   ]
  },
  {
   "cell_type": "markdown",
   "metadata": {},
   "source": [
    "### Using selection of actions from the whole dataset D_0"
   ]
  },
  {
   "cell_type": "code",
   "execution_count": 103,
   "metadata": {},
   "outputs": [],
   "source": [
    "genders = [0,1]\n",
    "tutorials = [0,1,2]\n",
    "gender_probs = [(1403.0/1403.0+1178.0),(1178.0/1403.0+1178.0)]\n",
    "tutorial_probs_male = [0.3795,0.2182,0.4023]\n",
    "tutorial_probs_female = [0.3892,0.2395,0.3713]\n",
    "\n",
    "def monte_carlo_exploring_starts(mc_iters):\n",
    "    rtns = [[[],[],[]],[[],[],[]]]\n",
    "    policy = [[0,0,0],[0,0,0]]\n",
    "    qs = [[0,0,0],[0,0,0]]\n",
    "    \n",
    "    for i in tqdm(range(mc_iters)):\n",
    "        init_state = np.random.choice(len(genders),1,gender_probs)[0]\n",
    "        if init_state == 0:\n",
    "            init_act = np.random.choice(len(tutorials),1,tutorial_probs_male)[0]\n",
    "        else:\n",
    "            init_act = np.random.choice(len(tutorials),1,tutorial_probs_female)[0]\n",
    "        \n",
    "        \n",
    "        rtns[init_state][init_act].append(rew(init_state,init_act)*1.0)\n",
    "        # print(init_state,init_act,rew(init_state,init_act))\n",
    "        qs[init_state][init_act] = mean(rtns[init_state][init_act])\n",
    "        for s in genders:\n",
    "            for j in range(len(policy[s])):\n",
    "#                 if j != argmax(qs[init_state]):\n",
    "                policy[s][j] = 0\n",
    "            policy[s][argmax(qs[s])] = 1\n",
    "            \n",
    "    \n",
    "    print(policy)\n",
    "    print(qs)\n",
    "#     print(rtns)"
   ]
  },
  {
   "cell_type": "markdown",
   "metadata": {},
   "source": [
    "#### Experiment Trials"
   ]
  },
  {
   "cell_type": "code",
   "execution_count": 104,
   "metadata": {},
   "outputs": [
    {
     "name": "stderr",
     "output_type": "stream",
     "text": [
      "100%|██████████| 100000/100000 [06:54<00:00, 241.52it/s]"
     ]
    },
    {
     "name": "stdout",
     "output_type": "stream",
     "text": [
      "[[0, 1, 0], [1, 0, 0]]\n",
      "[[4.4859476339178475, 5.8850375850137215, 2.3797253976894694], [3.683967358694348, 0.17683328344806945, 1.6752187987051912]]\n"
     ]
    },
    {
     "name": "stderr",
     "output_type": "stream",
     "text": [
      "\n"
     ]
    }
   ],
   "source": [
    "monte_carlo_exploring_starts(100000)"
   ]
  },
  {
   "cell_type": "code",
   "execution_count": 105,
   "metadata": {},
   "outputs": [
    {
     "name": "stderr",
     "output_type": "stream",
     "text": [
      "100%|██████████| 100000/100000 [06:56<00:00, 239.94it/s]"
     ]
    },
    {
     "name": "stdout",
     "output_type": "stream",
     "text": [
      "[[0, 1, 0], [1, 0, 0]]\n",
      "[[4.554778972520908, 5.842496285289747, 2.3418271843487712], [3.767258501354198, 0.17099227426364075, 1.6592175423881133]]\n"
     ]
    },
    {
     "name": "stderr",
     "output_type": "stream",
     "text": [
      "\n"
     ]
    }
   ],
   "source": [
    "monte_carlo_exploring_starts(100000)"
   ]
  },
  {
   "cell_type": "code",
   "execution_count": 106,
   "metadata": {},
   "outputs": [
    {
     "name": "stderr",
     "output_type": "stream",
     "text": [
      "  8%|▊         | 7779/100000 [00:02<00:33, 2766.30it/s] \n"
     ]
    },
    {
     "ename": "KeyboardInterrupt",
     "evalue": "",
     "output_type": "error",
     "traceback": [
      "\u001b[0;31m---------------------------------------------------------------------------\u001b[0m",
      "\u001b[0;31mAttributeError\u001b[0m                            Traceback (most recent call last)",
      "File \u001b[0;32m/Library/Developer/CommandLineTools/Library/Frameworks/Python3.framework/Versions/3.9/lib/python3.9/statistics.py:235\u001b[0m, in \u001b[0;36m_exact_ratio\u001b[0;34m(x)\u001b[0m\n\u001b[1;32m    233\u001b[0m \u001b[39mtry\u001b[39;00m:\n\u001b[1;32m    234\u001b[0m     \u001b[39m# x may be an int, Fraction, or Integral ABC.\u001b[39;00m\n\u001b[0;32m--> 235\u001b[0m     \u001b[39mreturn\u001b[39;00m (x\u001b[39m.\u001b[39;49mnumerator, x\u001b[39m.\u001b[39mdenominator)\n\u001b[1;32m    236\u001b[0m \u001b[39mexcept\u001b[39;00m \u001b[39mAttributeError\u001b[39;00m:\n",
      "\u001b[0;31mAttributeError\u001b[0m: 'numpy.float64' object has no attribute 'numerator'",
      "\nDuring handling of the above exception, another exception occurred:\n",
      "\u001b[0;31mKeyboardInterrupt\u001b[0m                         Traceback (most recent call last)",
      "Cell \u001b[0;32mIn[106], line 1\u001b[0m\n\u001b[0;32m----> 1\u001b[0m monte_carlo_exploring_starts(\u001b[39m100000\u001b[39;49m)\n",
      "Cell \u001b[0;32mIn[103], line 22\u001b[0m, in \u001b[0;36mmonte_carlo_exploring_starts\u001b[0;34m(mc_iters)\u001b[0m\n\u001b[1;32m     20\u001b[0m         rtns[init_state][init_act]\u001b[39m.\u001b[39mappend(rew(init_state,init_act)\u001b[39m*\u001b[39m\u001b[39m1.0\u001b[39m)\n\u001b[1;32m     21\u001b[0m         \u001b[39m# print(init_state,init_act,rew(init_state,init_act))\u001b[39;00m\n\u001b[0;32m---> 22\u001b[0m         qs[init_state][init_act] \u001b[39m=\u001b[39m mean(rtns[init_state][init_act])\n\u001b[1;32m     23\u001b[0m         \u001b[39mfor\u001b[39;00m s \u001b[39min\u001b[39;00m genders:\n\u001b[1;32m     24\u001b[0m             \u001b[39mfor\u001b[39;00m j \u001b[39min\u001b[39;00m \u001b[39mrange\u001b[39m(\u001b[39mlen\u001b[39m(policy[s])):\n\u001b[1;32m     25\u001b[0m \u001b[39m#                 if j != argmax(qs[init_state]):\u001b[39;00m\n",
      "File \u001b[0;32m/Library/Developer/CommandLineTools/Library/Frameworks/Python3.framework/Versions/3.9/lib/python3.9/statistics.py:316\u001b[0m, in \u001b[0;36mmean\u001b[0;34m(data)\u001b[0m\n\u001b[1;32m    314\u001b[0m \u001b[39mif\u001b[39;00m n \u001b[39m<\u001b[39m \u001b[39m1\u001b[39m:\n\u001b[1;32m    315\u001b[0m     \u001b[39mraise\u001b[39;00m StatisticsError(\u001b[39m'\u001b[39m\u001b[39mmean requires at least one data point\u001b[39m\u001b[39m'\u001b[39m)\n\u001b[0;32m--> 316\u001b[0m T, total, count \u001b[39m=\u001b[39m _sum(data)\n\u001b[1;32m    317\u001b[0m \u001b[39massert\u001b[39;00m count \u001b[39m==\u001b[39m n\n\u001b[1;32m    318\u001b[0m \u001b[39mreturn\u001b[39;00m _convert(total \u001b[39m/\u001b[39m n, T)\n",
      "File \u001b[0;32m/Library/Developer/CommandLineTools/Library/Frameworks/Python3.framework/Versions/3.9/lib/python3.9/statistics.py:166\u001b[0m, in \u001b[0;36m_sum\u001b[0;34m(data, start)\u001b[0m\n\u001b[1;32m    164\u001b[0m \u001b[39mfor\u001b[39;00m typ, values \u001b[39min\u001b[39;00m groupby(data, \u001b[39mtype\u001b[39m):\n\u001b[1;32m    165\u001b[0m     T \u001b[39m=\u001b[39m _coerce(T, typ)  \u001b[39m# or raise TypeError\u001b[39;00m\n\u001b[0;32m--> 166\u001b[0m     \u001b[39mfor\u001b[39;00m n, d \u001b[39min\u001b[39;00m \u001b[39mmap\u001b[39m(_exact_ratio, values):\n\u001b[1;32m    167\u001b[0m         count \u001b[39m+\u001b[39m\u001b[39m=\u001b[39m \u001b[39m1\u001b[39m\n\u001b[1;32m    168\u001b[0m         partials[d] \u001b[39m=\u001b[39m partials_get(d, \u001b[39m0\u001b[39m) \u001b[39m+\u001b[39m n\n",
      "File \u001b[0;32m/Library/Developer/CommandLineTools/Library/Frameworks/Python3.framework/Versions/3.9/lib/python3.9/statistics.py:236\u001b[0m, in \u001b[0;36m_exact_ratio\u001b[0;34m(x)\u001b[0m\n\u001b[1;32m    233\u001b[0m \u001b[39mtry\u001b[39;00m:\n\u001b[1;32m    234\u001b[0m     \u001b[39m# x may be an int, Fraction, or Integral ABC.\u001b[39;00m\n\u001b[1;32m    235\u001b[0m     \u001b[39mreturn\u001b[39;00m (x\u001b[39m.\u001b[39mnumerator, x\u001b[39m.\u001b[39mdenominator)\n\u001b[0;32m--> 236\u001b[0m \u001b[39mexcept\u001b[39;00m \u001b[39mAttributeError\u001b[39;00m:\n\u001b[1;32m    237\u001b[0m     \u001b[39mtry\u001b[39;00m:\n\u001b[1;32m    238\u001b[0m         \u001b[39m# x may be a float or Decimal subclass.\u001b[39;00m\n\u001b[1;32m    239\u001b[0m         \u001b[39mreturn\u001b[39;00m x\u001b[39m.\u001b[39mas_integer_ratio()\n",
      "\u001b[0;31mKeyboardInterrupt\u001b[0m: "
     ]
    }
   ],
   "source": [
    "monte_carlo_exploring_starts(100000)"
   ]
  },
  {
   "cell_type": "code",
   "execution_count": null,
   "metadata": {},
   "outputs": [],
   "source": []
  },
  {
   "cell_type": "markdown",
   "metadata": {},
   "source": [
    "### Using only the tailscores\n"
   ]
  },
  {
   "cell_type": "code",
   "execution_count": 107,
   "metadata": {},
   "outputs": [],
   "source": [
    "rews = [[[0.28773584905660377,0.2028301886792453,0.03773584905660377,0.05660377358490566,0.05188679245283019,0.04009433962264151,0.3231132075471698],\n",
    "         [0.19148936170212766,0.1829787234042553,0.059574468085106386,0.09361702127659574,0.4723404255319149],\n",
    "         [0.3744394618834081,0.3094170403587444,0.14349775784753363,0.02242152466367713,0.03587443946188341,0.11434977578475336]],\n",
    "        [[0.3146067415730337,0.18352059925093633,0.054307116104868915,0.028089887640449437,0.020599250936329586,0.0749063670411985,0.10112359550561797,0.031835205992509365,0.19101123595505617],\n",
    "         [0.8601,0.1280,0.0089,0.0030],\n",
    "         [0.43558282208588955,0.34151329243353784,0.13701431492842536,0.02044989775051125,0.065439672801636]]]\n",
    "rew_list = [[[0,1,2,5,6,9,10],[0,1,5,9,10],[0,1,2,3,9,10]],[[0,1,2,3,4,5,6,9,10],[0,1,2,10],[0,1,2,3,10]]]\n",
    "def rew_a(state,act):\n",
    "    return np.random.choice(rew_list[state][act],1,p=rews[state][act])[0]"
   ]
  },
  {
   "cell_type": "code",
   "execution_count": 108,
   "metadata": {},
   "outputs": [
    {
     "data": {
      "text/plain": [
       "1.0"
      ]
     },
     "execution_count": 108,
     "metadata": {},
     "output_type": "execute_result"
    }
   ],
   "source": [
    "x = [0.19148936170212766,0.1829787234042553,0.059574468085106386,0.09361702127659574,0.4723404255319149]\n",
    "s = 0\n",
    "for i in x:\n",
    "    s += i\n",
    "s"
   ]
  },
  {
   "cell_type": "markdown",
   "metadata": {},
   "source": [
    "### Using random actions"
   ]
  },
  {
   "cell_type": "code",
   "execution_count": 109,
   "metadata": {},
   "outputs": [],
   "source": [
    "genders = [0,1]\n",
    "\n",
    "tutorials = [0,1,2]\n",
    "\n",
    "\n",
    "\n",
    "def monte_carlo_exploring_starts_tailends(mc_iters):\n",
    "    rtns = [[[],[],[]],[[],[],[]]]\n",
    "    policy = [[0,0,0],[0,0,0]]\n",
    "    qs = [[0,0,0],[0,0,0]]\n",
    "    \n",
    "    for i in tqdm(range(mc_iters)):\n",
    "        init_state = np.random.choice(len(genders),1)[0]\n",
    "        init_act = np.random.choice(len(tutorials),1)[0]\n",
    "        \n",
    "        \n",
    "        rtns[init_state][init_act].append(rew_a(init_state,init_act)*1.0)\n",
    "        # print(init_state,init_act,rew(init_state,init_act))\n",
    "        qs[init_state][init_act] = mean(rtns[init_state][init_act])\n",
    "        for s in genders:\n",
    "            for j in range(len(policy[s])):\n",
    "#                 if j != argmax(qs[init_state]):\n",
    "                policy[s][j] = 0\n",
    "            policy[s][argmax(qs[s])] = 1\n",
    "            \n",
    "    \n",
    "    print(policy)\n",
    "    print(qs)\n",
    "#     print(rtns)"
   ]
  },
  {
   "cell_type": "markdown",
   "metadata": {},
   "source": [
    "#### Experiment Trials"
   ]
  },
  {
   "cell_type": "code",
   "execution_count": 110,
   "metadata": {},
   "outputs": [
    {
     "name": "stderr",
     "output_type": "stream",
     "text": [
      "100%|██████████| 100000/100000 [06:52<00:00, 242.54it/s]"
     ]
    },
    {
     "name": "stdout",
     "output_type": "stream",
     "text": [
      "[[0, 1, 0], [1, 0, 0]]\n",
      "[[4.417684945524589, 5.992253647991353, 2.1064861951248726], [3.668638346179124, 0.17691800922321374, 1.32403782448955]]\n"
     ]
    },
    {
     "name": "stderr",
     "output_type": "stream",
     "text": [
      "\n"
     ]
    }
   ],
   "source": [
    "monte_carlo_exploring_starts_tailends(100000)"
   ]
  },
  {
   "cell_type": "code",
   "execution_count": null,
   "metadata": {},
   "outputs": [
    {
     "name": "stderr",
     "output_type": "stream",
     "text": [
      "100%|██████████| 100000/100000 [06:49<00:00, 244.49it/s]"
     ]
    },
    {
     "name": "stdout",
     "output_type": "stream",
     "text": [
      "[[0, 1, 0], [1, 0, 0]]\n",
      "[[4.7233140194731495, 4.995678790061217, 4.16664656212304], [4.436963263358779, 3.3081454764051696, 3.2296256169495607]]\n"
     ]
    },
    {
     "name": "stderr",
     "output_type": "stream",
     "text": [
      "\n"
     ]
    }
   ],
   "source": [
    "monte_carlo_exploring_starts_tailends(100000)"
   ]
  },
  {
   "cell_type": "code",
   "execution_count": null,
   "metadata": {},
   "outputs": [
    {
     "name": "stderr",
     "output_type": "stream",
     "text": [
      "100%|██████████| 100000/100000 [06:50<00:00, 243.32it/s]"
     ]
    },
    {
     "name": "stdout",
     "output_type": "stream",
     "text": [
      "[[0, 1, 0], [1, 0, 0]]\n",
      "[[4.7337842734629785, 5.028698100772871, 4.173310328415041], [4.416063279586249, 3.2369671060444127, 3.166026641065643]]\n"
     ]
    },
    {
     "name": "stderr",
     "output_type": "stream",
     "text": [
      "\n"
     ]
    }
   ],
   "source": [
    "monte_carlo_exploring_starts_tailends(100000)"
   ]
  },
  {
   "cell_type": "markdown",
   "metadata": {},
   "source": [
    "### Using actual state and policy probabilities (excluding middle scores)"
   ]
  },
  {
   "cell_type": "code",
   "execution_count": 111,
   "metadata": {},
   "outputs": [],
   "source": [
    "genders = [0,1]\n",
    "tutorials = [0,1,2]\n",
    "gender_probs = [(1403.0/1403.0+1178.0),(1178.0/1403.0+1178.0)]\n",
    "tutorial_probs_male = [0.3795,0.2182,0.4023]\n",
    "tutorial_probs_female = [0.3892,0.2395,0.3713]\n",
    "\n",
    "def monte_carlo_exploring_starts_tailend_actual(mc_iters):\n",
    "    rtns = [[[],[],[]],[[],[],[]]]\n",
    "    policy = [[0,0,0],[0,0,0]]\n",
    "    qs = [[0,0,0],[0,0,0]]\n",
    "    \n",
    "    for i in tqdm(range(mc_iters)):\n",
    "        init_state = np.random.choice(len(genders),1,gender_probs)[0]\n",
    "        if init_state == 0:\n",
    "            init_act = np.random.choice(len(tutorials),1,tutorial_probs_male)[0]\n",
    "        else:\n",
    "            init_act = np.random.choice(len(tutorials),1,tutorial_probs_female)[0]\n",
    "        \n",
    "        \n",
    "        rtns[init_state][init_act].append(rew_a(init_state,init_act)*1.0)\n",
    "        # print(init_state,init_act,rew(init_state,init_act))\n",
    "        qs[init_state][init_act] = mean(rtns[init_state][init_act])\n",
    "        for s in genders:\n",
    "            for j in range(len(policy[s])):\n",
    "#                 if j != argmax(qs[init_state]):\n",
    "                policy[s][j] = 0\n",
    "            policy[s][argmax(qs[s])] = 1\n",
    "            \n",
    "    \n",
    "    print(policy)\n",
    "    print(qs)\n",
    "#     print(rtns)"
   ]
  },
  {
   "cell_type": "markdown",
   "metadata": {},
   "source": [
    "#### Experiment Trials"
   ]
  },
  {
   "cell_type": "code",
   "execution_count": 112,
   "metadata": {},
   "outputs": [
    {
     "name": "stderr",
     "output_type": "stream",
     "text": [
      "100%|██████████| 100000/100000 [06:52<00:00, 242.43it/s]"
     ]
    },
    {
     "name": "stdout",
     "output_type": "stream",
     "text": [
      "[[0, 1, 0], [1, 0, 0]]\n",
      "[[4.435223522352235, 5.973509933774834, 2.157344328911199], [3.640894607106355, 0.17721897025444988, 1.3169836302359172]]\n"
     ]
    },
    {
     "name": "stderr",
     "output_type": "stream",
     "text": [
      "\n"
     ]
    }
   ],
   "source": [
    "monte_carlo_exploring_starts_tailend_actual(100000)"
   ]
  },
  {
   "cell_type": "code",
   "execution_count": null,
   "metadata": {},
   "outputs": [
    {
     "name": "stderr",
     "output_type": "stream",
     "text": [
      "100%|██████████| 100000/100000 [06:49<00:00, 244.07it/s]"
     ]
    },
    {
     "name": "stdout",
     "output_type": "stream",
     "text": [
      "[[0, 1, 0], [1, 0, 0]]\n",
      "[[4.750178359096314, 5.0122181022430246, 4.202898550724638], [4.465078309245933, 3.235213857744557, 3.190829642044774]]\n"
     ]
    },
    {
     "name": "stderr",
     "output_type": "stream",
     "text": [
      "\n"
     ]
    }
   ],
   "source": [
    "monte_carlo_exploring_starts_tailend_actual(100000)"
   ]
  },
  {
   "cell_type": "code",
   "execution_count": null,
   "metadata": {},
   "outputs": [
    {
     "name": "stderr",
     "output_type": "stream",
     "text": [
      "100%|██████████| 100000/100000 [06:51<00:00, 242.73it/s]"
     ]
    },
    {
     "name": "stdout",
     "output_type": "stream",
     "text": [
      "[[0, 1, 0], [1, 0, 0]]\n",
      "[[4.72998002542219, 5.020049519898545, 4.184292333861223], [4.472870090634441, 3.2403937947494033, 3.1989010325463436]]\n"
     ]
    },
    {
     "name": "stderr",
     "output_type": "stream",
     "text": [
      "\n"
     ]
    }
   ],
   "source": [
    "monte_carlo_exploring_starts_tailend_actual(100000)"
   ]
  },
  {
   "cell_type": "code",
   "execution_count": null,
   "metadata": {},
   "outputs": [],
   "source": []
  }
 ],
 "metadata": {
  "kernelspec": {
   "display_name": "Python 3.9.6 64-bit",
   "language": "python",
   "name": "python3"
  },
  "language_info": {
   "codemirror_mode": {
    "name": "ipython",
    "version": 3
   },
   "file_extension": ".py",
   "mimetype": "text/x-python",
   "name": "python",
   "nbconvert_exporter": "python",
   "pygments_lexer": "ipython3",
   "version": "3.9.6"
  },
  "vscode": {
   "interpreter": {
    "hash": "31f2aee4e71d21fbe5cf8b01ff0e069b9275f58929596ceb00d14d90e3e16cd6"
   }
  }
 },
 "nbformat": 4,
 "nbformat_minor": 4
}
